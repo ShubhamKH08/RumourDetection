{
 "cells": [
  {
   "metadata": {},
   "cell_type": "markdown",
   "source": "## PHEME Dataset",
   "id": "64837280151f3b2d"
  },
  {
   "metadata": {},
   "cell_type": "code",
   "outputs": [],
   "execution_count": null,
   "source": [
    "import os\n",
    "import json\n",
    "import pandas as pd"
   ],
   "id": "6542f2a53cf23408"
  },
  {
   "metadata": {},
   "cell_type": "code",
   "outputs": [],
   "execution_count": null,
   "source": "pheme_dir = 'data/pheme-rnr-dataset'",
   "id": "afecfbb17bc55f7c"
  },
  {
   "metadata": {},
   "cell_type": "code",
   "outputs": [],
   "execution_count": null,
   "source": [
    "def read_json_file(file_path):\n",
    "    with open(file_path, 'r', encoding='utf-8') as file:\n",
    "        return json.load(file)\n",
    "\n",
    "def load_pheme_dataset(base_dir):\n",
    "    data = []\n",
    "    subdirs = ['rumours', 'non-rumours']\n",
    "\n",
    "    for event in os.listdir(base_dir):\n",
    "        for subdir in subdirs:\n",
    "            event_dir = os.path.join(base_dir, event, subdir)\n",
    "            if not os.path.isdir(event_dir):\n",
    "                continue\n",
    "            for rumor in os.listdir(event_dir):\n",
    "                rumor_dir = os.path.join(event_dir, rumor)\n",
    "                source_tweet_file = os.path.join(rumor_dir, 'source-tweet', f'{rumor}.json')\n",
    "                reactions_dir = os.path.join(rumor_dir, 'reactions')\n",
    "\n",
    "                if os.path.isfile(source_tweet_file):\n",
    "                    source_tweet = read_json_file(source_tweet_file)\n",
    "                    data.append({\n",
    "                        'event': event,\n",
    "                        'tweet_id': source_tweet['id_str'],\n",
    "                        'text': source_tweet['text'],\n",
    "                        'user': source_tweet['user']['screen_name'],\n",
    "                        'timestamp': source_tweet['created_at'],\n",
    "                        'type': 'source',\n",
    "                        'is_rumour': True if subdir == 'rumours' else False\n",
    "                    })\n",
    "\n",
    "                if os.path.isdir(reactions_dir):\n",
    "                    for reaction_file in os.listdir(reactions_dir):\n",
    "                        reaction_path = os.path.join(reactions_dir, reaction_file)\n",
    "                        reaction_tweet = read_json_file(reaction_path)\n",
    "                        data.append({\n",
    "                            'event': event,\n",
    "                            'tweet_id': reaction_tweet['id_str'],\n",
    "                            'text': reaction_tweet['text'],\n",
    "                            'user': reaction_tweet['user']['screen_name'],\n",
    "                            'timestamp': reaction_tweet['created_at'],\n",
    "                            'type': 'reaction',\n",
    "                            'is_rumour': True if subdir == 'rumours' else False\n",
    "                        })\n",
    "\n",
    "    return pd.DataFrame(data)"
   ],
   "id": "3add3e0cb1575e15"
  },
  {
   "metadata": {},
   "cell_type": "code",
   "outputs": [],
   "execution_count": null,
   "source": "pheme_df = load_pheme_dataset(pheme_dir)",
   "id": "a9378c2e1f082f53"
  },
  {
   "metadata": {},
   "cell_type": "code",
   "outputs": [],
   "execution_count": null,
   "source": "pheme_df.to_csv('data/csv/pheme_dataset.csv', index=False)",
   "id": "5407cd16e736f6f5"
  },
  {
   "metadata": {},
   "cell_type": "code",
   "outputs": [],
   "execution_count": null,
   "source": "print(pheme_df)",
   "id": "f4e3fb57f6896f16"
  }
 ],
 "metadata": {
  "kernelspec": {
   "display_name": "Python 3",
   "language": "python",
   "name": "python3"
  },
  "language_info": {
   "codemirror_mode": {
    "name": "ipython",
    "version": 2
   },
   "file_extension": ".py",
   "mimetype": "text/x-python",
   "name": "python",
   "nbconvert_exporter": "python",
   "pygments_lexer": "ipython2",
   "version": "2.7.6"
  }
 },
 "nbformat": 4,
 "nbformat_minor": 5
}
