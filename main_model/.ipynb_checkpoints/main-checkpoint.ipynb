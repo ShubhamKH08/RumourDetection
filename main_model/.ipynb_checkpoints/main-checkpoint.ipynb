{
 "cells": [
  {
   "cell_type": "markdown",
   "id": "4b54d073e6b2f89c",
   "metadata": {
    "collapsed": false,
    "jupyter": {
     "outputs_hidden": false
    }
   },
   "source": [
    "# Import Dependencies"
   ]
  },
  {
   "cell_type": "code",
   "execution_count": 1,
   "id": "2126cfcbcfdd081e",
   "metadata": {
    "ExecuteTime": {
     "end_time": "2024-05-30T06:41:12.540916Z",
     "start_time": "2024-05-30T06:41:11.786046Z"
    },
    "collapsed": false,
    "jupyter": {
     "outputs_hidden": false
    }
   },
   "source": [
    "import os\n",
    "import json\n",
    "import pandas as pd\n",
    "from main_model.scripts.data_preprocessing import preprocess_data"
   ],
   "outputs": []
  },
  {
   "cell_type": "markdown",
   "id": "d4e72f9754cf8282",
   "metadata": {
    "collapsed": false,
    "jupyter": {
     "outputs_hidden": false
    }
   },
   "source": [
    "# Directories"
   ]
  },
  {
   "cell_type": "markdown",
   "id": "37f5d028cb6e9915",
   "metadata": {
    "collapsed": false,
    "jupyter": {
     "outputs_hidden": false
    }
   },
   "source": [
    "## PHEME Dataset"
   ]
  },
  {
   "cell_type": "code",
   "execution_count": 2,
   "id": "e1c7ce99da3830a",
   "metadata": {
    "ExecuteTime": {
     "end_time": "2024-05-25T07:33:49.591075Z",
     "start_time": "2024-05-25T07:33:49.586881Z"
    },
    "collapsed": false,
    "jupyter": {
     "outputs_hidden": false
    }
   },
   "source": [
    "pheme_dir = 'data/pheme-rnr-dataset'"
   ],
   "outputs": []
  },
  {
   "cell_type": "markdown",
   "id": "1d9e1c4bdce9e7e0",
   "metadata": {
    "collapsed": false,
    "jupyter": {
     "outputs_hidden": false
    }
   },
   "source": [
    "# Import the datasets"
   ]
  },
  {
   "cell_type": "markdown",
   "id": "ee2cad06-d44f-4274-af3a-888421e570bb",
   "metadata": {},
   "source": [
    "## PHEME Dataset"
   ]
  },
  {
   "cell_type": "code",
   "execution_count": 3,
   "id": "eca74718bfa83988",
   "metadata": {
    "ExecuteTime": {
     "end_time": "2024-05-25T07:33:49.600887Z",
     "start_time": "2024-05-25T07:33:49.592085Z"
    },
    "collapsed": false,
    "jupyter": {
     "outputs_hidden": false
    }
   },
   "source": [
    "def read_json_file(file_path):\n",
    "    with open(file_path, 'r', encoding='utf-8') as file:\n",
    "        return json.load(file)\n",
    "\n",
    "def load_pheme_dataset(base_dir):\n",
    "    data = []\n",
    "    subdirs = ['rumours', 'non-rumours']\n",
    "\n",
    "    for event in os.listdir(base_dir):\n",
    "        for subdir in subdirs:\n",
    "            event_dir = os.path.join(base_dir, event, subdir)\n",
    "            if not os.path.isdir(event_dir):\n",
    "                continue\n",
    "            for rumor in os.listdir(event_dir):\n",
    "                rumor_dir = os.path.join(event_dir, rumor)\n",
    "                source_tweet_file = os.path.join(rumor_dir, 'source-tweet', f'{rumor}.json')\n",
    "                reactions_dir = os.path.join(rumor_dir, 'reactions')\n",
    "\n",
    "                if os.path.isfile(source_tweet_file):\n",
    "                    source_tweet = read_json_file(source_tweet_file)\n",
    "                    data.append({\n",
    "                        'event': event,\n",
    "                        'tweet_id': source_tweet['id_str'],\n",
    "                        'text': source_tweet['text'],\n",
    "                        'user': source_tweet['user']['screen_name'],\n",
    "                        'timestamp': source_tweet['created_at'],\n",
    "                        'type': 'source',\n",
    "                        'is_rumour': True if subdir == 'rumours' else False\n",
    "                    })\n",
    "\n",
    "                if os.path.isdir(reactions_dir):\n",
    "                    for reaction_file in os.listdir(reactions_dir):\n",
    "                        reaction_path = os.path.join(reactions_dir, reaction_file)\n",
    "                        reaction_tweet = read_json_file(reaction_path)\n",
    "                        data.append({\n",
    "                            'event': event,\n",
    "                            'tweet_id': reaction_tweet['id_str'],\n",
    "                            'text': reaction_tweet['text'],\n",
    "                            'user': reaction_tweet['user']['screen_name'],\n",
    "                            'timestamp': reaction_tweet['created_at'],\n",
    "                            'type': 'reaction',\n",
    "                            'is_rumour': True if subdir == 'rumours' else False\n",
    "                        })\n",
    "\n",
    "    return pd.DataFrame(data)"
   ],
   "outputs": []
  },
  {
   "cell_type": "code",
   "execution_count": 4,
   "id": "a83a3ffb43ed0af7",
   "metadata": {
    "ExecuteTime": {
     "end_time": "2024-05-25T07:34:36.500539Z",
     "start_time": "2024-05-25T07:33:49.602038Z"
    },
    "collapsed": false,
    "jupyter": {
     "outputs_hidden": false
    }
   },
   "source": [
    "pheme_df = load_pheme_dataset(pheme_dir)"
   ],
   "outputs": []
  },
  {
   "cell_type": "code",
   "execution_count": 5,
   "id": "a10bd37a7f63780b",
   "metadata": {
    "ExecuteTime": {
     "end_time": "2024-05-25T07:34:36.986508Z",
     "start_time": "2024-05-25T07:34:36.502224Z"
    },
    "collapsed": false,
    "jupyter": {
     "outputs_hidden": false
    }
   },
   "source": [
    "pheme_df.to_csv('data/csv/pheme_dataset.csv', index=False)"
   ],
   "outputs": []
  },
  {
   "cell_type": "code",
   "execution_count": 6,
   "id": "6c3c2372b8fed82e",
   "metadata": {
    "ExecuteTime": {
     "end_time": "2024-05-25T07:34:37.004246Z",
     "start_time": "2024-05-25T07:34:36.988018Z"
    },
    "collapsed": false,
    "jupyter": {
     "outputs_hidden": false
    }
   },
   "source": [
    "print(pheme_df)"
   ],
   "outputs": []
  },
  {
   "cell_type": "markdown",
   "id": "7d4a8892dcb64692",
   "metadata": {},
   "source": [
    "## Final Dataset"
   ]
  },
  {
   "cell_type": "code",
   "execution_count": 2,
   "id": "49b83911af439b6e",
   "metadata": {
    "ExecuteTime": {
     "end_time": "2024-05-30T06:41:17.778875Z",
     "start_time": "2024-05-30T06:41:17.158317Z"
    }
   },
   "source": [
    "final_df = pd.read_csv(\"data/final_dataset.csv\")"
   ],
   "outputs": []
  },
  {
   "cell_type": "markdown",
   "id": "f9f44275797612fe",
   "metadata": {},
   "source": [
    "## Data Preprocessing"
   ]
  },
  {
   "cell_type": "code",
   "execution_count": 3,
   "id": "b4120de0145b2a77",
   "metadata": {
    "ExecuteTime": {
     "end_time": "2024-05-30T06:41:21.689475Z",
     "start_time": "2024-05-30T06:41:19.145457Z"
    }
   },
   "source": [
    "final_df = preprocess_data(final_df)"
   ],
   "outputs": []
  },
  {
   "cell_type": "code",
   "execution_count": 4,
   "id": "aa6126aee3daeacf",
   "metadata": {
    "ExecuteTime": {
     "end_time": "2024-05-30T06:41:21.697472Z",
     "start_time": "2024-05-30T06:41:21.690484Z"
    }
   },
   "source": [
    "print(final_df)"
   ],
   "outputs": []
  },
  {
   "cell_type": "markdown",
   "id": "807f355ab4929d57",
   "metadata": {},
   "source": [
    "## POS Tagging"
   ]
  },
  {
   "cell_type": "code",
   "execution_count": 5,
   "id": "e74d5aff36a91171",
   "metadata": {
    "ExecuteTime": {
     "end_time": "2024-05-30T07:01:14.410027Z",
     "start_time": "2024-05-30T06:58:36.378484Z"
    }
   },
   "source": [
    "from main_model.scripts.postagging import postagging\n",
    "\n",
    "postagging(final_df)"
   ],
   "outputs": []
  },
  {
   "cell_type": "code",
   "execution_count": null,
   "id": "fedcf0b4942ca4a",
   "metadata": {},
   "source": [],
   "outputs": []
  }
 ],
 "metadata": {
  "kernelspec": {
   "display_name": "Python 3 (ipykernel)",
   "language": "python",
   "name": "python3"
  },
  "language_info": {
   "codemirror_mode": {
    "name": "ipython",
    "version": 3
   },
   "file_extension": ".py",
   "mimetype": "text/x-python",
   "name": "python",
   "nbconvert_exporter": "python",
   "pygments_lexer": "ipython3",
   "version": "3.11.0"
  }
 },
 "nbformat": 4,
 "nbformat_minor": 5
}
