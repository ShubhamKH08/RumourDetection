{
 "cells": [
  {
   "cell_type": "markdown",
   "id": "4b54d073e6b2f89c",
   "metadata": {
    "collapsed": false,
    "jupyter": {
     "outputs_hidden": false
    }
   },
   "source": [
    "# Import Dependencies"
   ]
  },
  {
   "cell_type": "code",
   "id": "2126cfcbcfdd081e",
   "metadata": {
    "collapsed": false,
    "jupyter": {
     "outputs_hidden": false
    },
    "ExecuteTime": {
     "end_time": "2024-06-05T22:43:16.658051Z",
     "start_time": "2024-06-05T22:43:15.587686Z"
    }
   },
   "source": [
    "import os\n",
    "import json\n",
    "import pandas as pd\n",
    "from main_model.scripts.data_preprocessing import preprocess_data"
   ],
   "outputs": [],
   "execution_count": 1
  },
  {
   "metadata": {},
   "cell_type": "markdown",
   "source": "# Directories",
   "id": "d4e72f9754cf8282"
  },
  {
   "cell_type": "markdown",
   "id": "37f5d028cb6e9915",
   "metadata": {
    "collapsed": false,
    "jupyter": {
     "outputs_hidden": false
    }
   },
   "source": "# Import the final dataset"
  },
  {
   "cell_type": "code",
   "id": "49b83911af439b6e",
   "metadata": {
    "ExecuteTime": {
     "end_time": "2024-06-05T22:43:16.975791Z",
     "start_time": "2024-06-05T22:43:16.658051Z"
    }
   },
   "source": [
    "final_df = pd.read_csv(\"data/final_dataset.csv\")"
   ],
   "outputs": [
    {
     "name": "stderr",
     "output_type": "stream",
     "text": [
      "C:\\Users\\bneer\\AppData\\Local\\Temp\\ipykernel_27664\\2234161302.py:1: DtypeWarning: Columns (3,6,7) have mixed types. Specify dtype option on import or set low_memory=False.\n",
      "  final_df = pd.read_csv(\"data/final_dataset.csv\")\n"
     ]
    }
   ],
   "execution_count": 2
  },
  {
   "cell_type": "markdown",
   "id": "f9f44275797612fe",
   "metadata": {},
   "source": [
    "## Data Preprocessing"
   ]
  },
  {
   "cell_type": "code",
   "id": "b4120de0145b2a77",
   "metadata": {
    "ExecuteTime": {
     "end_time": "2024-06-05T22:43:26.855470Z",
     "start_time": "2024-06-05T22:43:16.975791Z"
    }
   },
   "source": [
    "final_df = preprocess_data(final_df)"
   ],
   "outputs": [],
   "execution_count": 3
  },
  {
   "metadata": {
    "ExecuteTime": {
     "end_time": "2024-06-05T22:43:26.883518Z",
     "start_time": "2024-06-05T22:43:26.855470Z"
    }
   },
   "cell_type": "code",
   "source": [
    "from sklearn.preprocessing import LabelEncoder\n",
    "\n",
    "labels = final_df['rating']\n",
    "\n",
    "label_encoder = LabelEncoder()\n",
    "labels_encoded = label_encoder.fit_transform(labels)"
   ],
   "id": "3a78ce0f1569cc56",
   "outputs": [],
   "execution_count": 4
  },
  {
   "cell_type": "code",
   "id": "aa6126aee3daeacf",
   "metadata": {
    "ExecuteTime": {
     "end_time": "2024-06-05T22:43:26.895575Z",
     "start_time": "2024-06-05T22:43:26.883518Z"
    }
   },
   "source": [
    "print(final_df)"
   ],
   "outputs": [
    {
     "name": "stdout",
     "output_type": "stream",
     "text": [
      "                                                      url  \\\n",
      "0                               http://www.nfib-sbet.org/   \n",
      "1       http://www.cq.com/doc/newsmakertranscripts-494...   \n",
      "2       https://web.archive.org/web/20080204072132/htt...   \n",
      "3       https://web.archive.org/web/20110811143753/htt...   \n",
      "4       https://web.archive.org/web/20070820164107/htt...   \n",
      "...                                                   ...   \n",
      "129200  www.huffingtonpost.com/2012/09/11/september-11...   \n",
      "129201  www.dailymail.co.uk/news/article-4915674/NASCA...   \n",
      "129202  www.telegraph.co.uk/men/the-filter/7-signs-dav...   \n",
      "129203  www.vanityfair.com/style/2016/09/ryan-gosling-...   \n",
      "129204  www.lifeandstylemag.com/posts/jamie-foxx-katie...   \n",
      "\n",
      "                                                    title category account  \\\n",
      "0             national federation of independent business      nan     nan   \n",
      "1                             comments in fayetteville nc      nan     nan   \n",
      "2       romney makes pitch hoping to close deal  elect...      nan     nan   \n",
      "3       democratic leaders say house democrats are uni...      nan     nan   \n",
      "4               budget of the united states government fy      nan     nan   \n",
      "...                                                   ...      ...     ...   \n",
      "129200            september  celebrities remember  tweets      nan     nan   \n",
      "129201  nascar owners threaten to fire drivers who pro...      nan     nan   \n",
      "129202  the  signs that david beckham is definitely ha...      nan     nan   \n",
      "129203  ryan gosling and eva mendes did not get marrie...      nan     nan   \n",
      "129204  jamie foxx spends the day with katie holmes an...      nan     nan   \n",
      "\n",
      "       post type rating debate  \\\n",
      "0            nan   TRUE    NaN   \n",
      "1            nan   TRUE    NaN   \n",
      "2            nan   TRUE    NaN   \n",
      "3            nan   TRUE    NaN   \n",
      "4            nan   TRUE    NaN   \n",
      "...          ...    ...    ...   \n",
      "129200       nan  False    NaN   \n",
      "129201       nan  False    NaN   \n",
      "129202       nan  False    NaN   \n",
      "129203       nan  False    NaN   \n",
      "129204       nan  False    NaN   \n",
      "\n",
      "                                          tokenized_title  \n",
      "0       [national, federation, of, independent, business]  \n",
      "1                        [comments, in, fayetteville, nc]  \n",
      "2       [romney, makes, pitch, hoping, to, close, deal...  \n",
      "3       [democratic, leaders, say, house, democrats, a...  \n",
      "4       [budget, of, the, united, states, government, fy]  \n",
      "...                                                   ...  \n",
      "129200         [september, celebrities, remember, tweets]  \n",
      "129201  [nascar, owners, threaten, to, fire, drivers, ...  \n",
      "129202  [the, signs, that, david, beckham, is, definit...  \n",
      "129203  [ryan, gosling, and, eva, mendes, did, not, ge...  \n",
      "129204  [jamie, foxx, spends, the, day, with, katie, h...  \n",
      "\n",
      "[126408 rows x 8 columns]\n"
     ]
    }
   ],
   "execution_count": 5
  },
  {
   "cell_type": "markdown",
   "id": "807f355ab4929d57",
   "metadata": {},
   "source": [
    "## POS Tagging"
   ]
  },
  {
   "cell_type": "code",
   "id": "e74d5aff36a91171",
   "metadata": {
    "ExecuteTime": {
     "end_time": "2024-06-05T22:45:15.224708Z",
     "start_time": "2024-06-05T22:43:26.895575Z"
    }
   },
   "source": [
    "from main_model.scripts.postagging import postagging\n",
    "\n",
    "unigram_tagged, bigram_tagged, trigram_tagged = postagging(final_df)"
   ],
   "outputs": [
    {
     "name": "stderr",
     "output_type": "stream",
     "text": [
      "[nltk_data] Downloading package universal_tagset to\n",
      "[nltk_data]     C:\\Users\\bneer\\AppData\\Roaming\\nltk_data...\n",
      "[nltk_data]   Package universal_tagset is already up-to-date!\n",
      "[nltk_data] Downloading package punkt to\n",
      "[nltk_data]     C:\\Users\\bneer\\AppData\\Roaming\\nltk_data...\n",
      "[nltk_data]   Package punkt is already up-to-date!\n"
     ]
    }
   ],
   "execution_count": 6
  },
  {
   "metadata": {},
   "cell_type": "markdown",
   "source": "## Lemmatization",
   "id": "a1f6f564965aa85f"
  },
  {
   "cell_type": "code",
   "id": "fedcf0b4942ca4a",
   "metadata": {
    "ExecuteTime": {
     "end_time": "2024-06-05T22:45:16.586475Z",
     "start_time": "2024-06-05T22:45:15.224708Z"
    }
   },
   "source": [
    "from main_model.scripts.lemmatization import RadixTree\n",
    "\n",
    "dictionary = list(set(word for sentence in final_df['tokenized_title'] for word in sentence))\n",
    "radix_tree = RadixTree()\n",
    "for word in dictionary:\n",
    "    radix_tree.insert(word)"
   ],
   "outputs": [
    {
     "name": "stderr",
     "output_type": "stream",
     "text": [
      "[nltk_data] Downloading package wordnet to\n",
      "[nltk_data]     C:\\Users\\bneer\\AppData\\Roaming\\nltk_data...\n",
      "[nltk_data]   Package wordnet is already up-to-date!\n",
      "[nltk_data] Downloading package omw-1.4 to\n",
      "[nltk_data]     C:\\Users\\bneer\\AppData\\Roaming\\nltk_data...\n",
      "[nltk_data]   Package omw-1.4 is already up-to-date!\n"
     ]
    }
   ],
   "execution_count": 7
  },
  {
   "metadata": {
    "ExecuteTime": {
     "end_time": "2024-06-05T22:45:32.694112Z",
     "start_time": "2024-06-05T22:45:16.586991Z"
    }
   },
   "cell_type": "code",
   "source": [
    "from main_model.scripts.lemmatization import perform_lemmatization\n",
    "\n",
    "unigram_lemmatization_results = perform_lemmatization(unigram_tagged, dictionary, radix_tree)\n",
    "bigram_lemmatization_results = perform_lemmatization(bigram_tagged, dictionary, radix_tree)\n",
    "trigram_lemmatization_results = perform_lemmatization(trigram_tagged, dictionary, radix_tree)"
   ],
   "id": "78577c8b0baad2e5",
   "outputs": [],
   "execution_count": 8
  },
  {
   "metadata": {
    "ExecuteTime": {
     "end_time": "2024-06-05T22:45:32.828272Z",
     "start_time": "2024-06-05T22:45:32.694112Z"
    }
   },
   "cell_type": "code",
   "source": [
    "from main_model.scripts.feature_extraction import tfidf_vectorize, bow_vectorize, ngrams_vectorize\n",
    "\n",
    "lemmatization_results = {\n",
    "    \"unigram\": unigram_lemmatization_results,\n",
    "    \"bigram\": bigram_lemmatization_results,\n",
    "    \"trigram\": trigram_lemmatization_results,\n",
    "}\n",
    "\n",
    "vectorizers = {\n",
    "    \"tfidf\": tfidf_vectorize,\n",
    "    \"bow\": bow_vectorize,\n",
    "    \"ngrams\": lambda s: ngrams_vectorize(s, n=2),\n",
    "}"
   ],
   "id": "a6f2445dc7ef4a52",
   "outputs": [],
   "execution_count": 9
  },
  {
   "metadata": {},
   "cell_type": "markdown",
   "source": "## Feature Extraction",
   "id": "bc701fe34a4cb7d0"
  },
  {
   "metadata": {
    "ExecuteTime": {
     "end_time": "2024-06-05T22:47:35.576936Z",
     "start_time": "2024-06-05T22:45:32.828272Z"
    }
   },
   "cell_type": "code",
   "source": [
    "from main_model.scripts.feature_extraction import train_and_evaluate\n",
    "\n",
    "results = {}\n",
    "\n",
    "for tagger_name, lemmatizations in lemmatization_results.items():\n",
    "    results[tagger_name] = {}\n",
    "    for lemma_name, lemmatized_sentences in lemmatizations.items():\n",
    "        results[tagger_name][lemma_name] = {}\n",
    "        for vectorizer_name, vectorizer_func in vectorizers.items():\n",
    "            print(f\"Training {vectorizer_name} on {tagger_name} output with {lemma_name} lemmatization...\")\n",
    "            features = vectorizer_func(lemmatized_sentences)\n",
    "            accuracy, precision, recall, f1 = train_and_evaluate(features, labels)\n",
    "            results[tagger_name][lemma_name][vectorizer_name] = {\n",
    "                \"accuracy\": accuracy,\n",
    "                \"precision\": precision,\n",
    "                \"recall\": recall,\n",
    "                \"f1\": f1\n",
    "            }\n",
    "            print(f\"Results: Accuracy={accuracy}, Precision={precision}, Recall={recall}, F1={f1}\")\n",
    "\n",
    "print(results)"
   ],
   "id": "7c7d0b0722dd1aa2",
   "outputs": [
    {
     "name": "stdout",
     "output_type": "stream",
     "text": [
      "Training tfidf on unigram output with radix lemmatization...\n",
      "Results: Accuracy=0.6109089470769717, Precision=0.6091201597536658, Recall=0.5234339744401167, F1=0.5338585217192766\n",
      "Training bow on unigram output with radix lemmatization...\n",
      "Results: Accuracy=0.6107902855786725, Precision=0.6113663717625579, Recall=0.526070220747978, F1=0.5376530178739494\n",
      "Training ngrams on unigram output with radix lemmatization...\n",
      "Results: Accuracy=0.4806186219444664, Precision=0.548328764891927, Recall=0.3704299127080421, F1=0.35936891670726995\n",
      "Training tfidf on unigram output with morphological lemmatization...\n",
      "Results: Accuracy=0.6156949608417056, Precision=0.6081125940161588, Recall=0.5291388294247683, F1=0.5397002183438828\n",
      "Training bow on unigram output with morphological lemmatization...\n",
      "Results: Accuracy=0.6150225456846768, Precision=0.6105218082609154, Recall=0.5313543817612736, F1=0.5429067829907537\n",
      "Training ngrams on unigram output with morphological lemmatization...\n",
      "Results: Accuracy=0.4865121430266593, Precision=0.5576662473527347, Recall=0.37838260848721594, F1=0.370603834956459\n",
      "Training tfidf on unigram output with affix lemmatization...\n",
      "Results: Accuracy=0.6098409935922791, Precision=0.6069785042548744, Recall=0.5225204942032947, F1=0.5328243123645143\n",
      "Training bow on unigram output with affix lemmatization...\n",
      "Results: Accuracy=0.6106716240803733, Precision=0.6111102571447048, Recall=0.5261541450779902, F1=0.5378685607996617\n",
      "Training ngrams on unigram output with affix lemmatization...\n",
      "Results: Accuracy=0.4798670991219049, Precision=0.5478045656811764, Recall=0.36984148924835364, F1=0.3587590281753307\n",
      "Training tfidf on bigram output with radix lemmatization...\n",
      "Results: Accuracy=0.6109089470769717, Precision=0.6091201597536658, Recall=0.5234339744401167, F1=0.5338585217192766\n",
      "Training bow on bigram output with radix lemmatization...\n",
      "Results: Accuracy=0.6107902855786725, Precision=0.6113663717625579, Recall=0.526070220747978, F1=0.5376530178739494\n",
      "Training ngrams on bigram output with radix lemmatization...\n",
      "Results: Accuracy=0.4806186219444664, Precision=0.548328764891927, Recall=0.3704299127080421, F1=0.35936891670726995\n",
      "Training tfidf on bigram output with morphological lemmatization...\n",
      "Results: Accuracy=0.6156949608417056, Precision=0.6081125940161588, Recall=0.5291388294247683, F1=0.5397002183438828\n",
      "Training bow on bigram output with morphological lemmatization...\n",
      "Results: Accuracy=0.6150225456846768, Precision=0.6105218082609154, Recall=0.5313543817612736, F1=0.5429067829907537\n",
      "Training ngrams on bigram output with morphological lemmatization...\n",
      "Results: Accuracy=0.4865121430266593, Precision=0.5576662473527347, Recall=0.37838260848721594, F1=0.370603834956459\n",
      "Training tfidf on bigram output with affix lemmatization...\n",
      "Results: Accuracy=0.6098409935922791, Precision=0.6069785042548744, Recall=0.5225204942032947, F1=0.5328243123645143\n",
      "Training bow on bigram output with affix lemmatization...\n",
      "Results: Accuracy=0.6106716240803733, Precision=0.6111102571447048, Recall=0.5261541450779902, F1=0.5378685607996617\n",
      "Training ngrams on bigram output with affix lemmatization...\n",
      "Results: Accuracy=0.4798670991219049, Precision=0.5478045656811764, Recall=0.36984148924835364, F1=0.3587590281753307\n",
      "Training tfidf on trigram output with radix lemmatization...\n",
      "Results: Accuracy=0.6109089470769717, Precision=0.6091201597536658, Recall=0.5234339744401167, F1=0.5338585217192766\n",
      "Training bow on trigram output with radix lemmatization...\n",
      "Results: Accuracy=0.6107902855786725, Precision=0.6113663717625579, Recall=0.526070220747978, F1=0.5376530178739494\n",
      "Training ngrams on trigram output with radix lemmatization...\n",
      "Results: Accuracy=0.4806186219444664, Precision=0.548328764891927, Recall=0.3704299127080421, F1=0.35936891670726995\n",
      "Training tfidf on trigram output with morphological lemmatization...\n",
      "Results: Accuracy=0.6156949608417056, Precision=0.6081125940161588, Recall=0.5291388294247683, F1=0.5397002183438828\n",
      "Training bow on trigram output with morphological lemmatization...\n",
      "Results: Accuracy=0.6150225456846768, Precision=0.6105218082609154, Recall=0.5313543817612736, F1=0.5429067829907537\n",
      "Training ngrams on trigram output with morphological lemmatization...\n",
      "Results: Accuracy=0.4865121430266593, Precision=0.5576662473527347, Recall=0.37838260848721594, F1=0.370603834956459\n",
      "Training tfidf on trigram output with affix lemmatization...\n",
      "Results: Accuracy=0.6098409935922791, Precision=0.6069785042548744, Recall=0.5225204942032947, F1=0.5328243123645143\n",
      "Training bow on trigram output with affix lemmatization...\n",
      "Results: Accuracy=0.6106716240803733, Precision=0.6111102571447048, Recall=0.5261541450779902, F1=0.5378685607996617\n",
      "Training ngrams on trigram output with affix lemmatization...\n",
      "Results: Accuracy=0.4798670991219049, Precision=0.5478045656811764, Recall=0.36984148924835364, F1=0.3587590281753307\n",
      "{'unigram': {'radix': {'tfidf': {'accuracy': 0.6109089470769717, 'precision': 0.6091201597536658, 'recall': 0.5234339744401167, 'f1': 0.5338585217192766}, 'bow': {'accuracy': 0.6107902855786725, 'precision': 0.6113663717625579, 'recall': 0.526070220747978, 'f1': 0.5376530178739494}, 'ngrams': {'accuracy': 0.4806186219444664, 'precision': 0.548328764891927, 'recall': 0.3704299127080421, 'f1': 0.35936891670726995}}, 'morphological': {'tfidf': {'accuracy': 0.6156949608417056, 'precision': 0.6081125940161588, 'recall': 0.5291388294247683, 'f1': 0.5397002183438828}, 'bow': {'accuracy': 0.6150225456846768, 'precision': 0.6105218082609154, 'recall': 0.5313543817612736, 'f1': 0.5429067829907537}, 'ngrams': {'accuracy': 0.4865121430266593, 'precision': 0.5576662473527347, 'recall': 0.37838260848721594, 'f1': 0.370603834956459}}, 'affix': {'tfidf': {'accuracy': 0.6098409935922791, 'precision': 0.6069785042548744, 'recall': 0.5225204942032947, 'f1': 0.5328243123645143}, 'bow': {'accuracy': 0.6106716240803733, 'precision': 0.6111102571447048, 'recall': 0.5261541450779902, 'f1': 0.5378685607996617}, 'ngrams': {'accuracy': 0.4798670991219049, 'precision': 0.5478045656811764, 'recall': 0.36984148924835364, 'f1': 0.3587590281753307}}}, 'bigram': {'radix': {'tfidf': {'accuracy': 0.6109089470769717, 'precision': 0.6091201597536658, 'recall': 0.5234339744401167, 'f1': 0.5338585217192766}, 'bow': {'accuracy': 0.6107902855786725, 'precision': 0.6113663717625579, 'recall': 0.526070220747978, 'f1': 0.5376530178739494}, 'ngrams': {'accuracy': 0.4806186219444664, 'precision': 0.548328764891927, 'recall': 0.3704299127080421, 'f1': 0.35936891670726995}}, 'morphological': {'tfidf': {'accuracy': 0.6156949608417056, 'precision': 0.6081125940161588, 'recall': 0.5291388294247683, 'f1': 0.5397002183438828}, 'bow': {'accuracy': 0.6150225456846768, 'precision': 0.6105218082609154, 'recall': 0.5313543817612736, 'f1': 0.5429067829907537}, 'ngrams': {'accuracy': 0.4865121430266593, 'precision': 0.5576662473527347, 'recall': 0.37838260848721594, 'f1': 0.370603834956459}}, 'affix': {'tfidf': {'accuracy': 0.6098409935922791, 'precision': 0.6069785042548744, 'recall': 0.5225204942032947, 'f1': 0.5328243123645143}, 'bow': {'accuracy': 0.6106716240803733, 'precision': 0.6111102571447048, 'recall': 0.5261541450779902, 'f1': 0.5378685607996617}, 'ngrams': {'accuracy': 0.4798670991219049, 'precision': 0.5478045656811764, 'recall': 0.36984148924835364, 'f1': 0.3587590281753307}}}, 'trigram': {'radix': {'tfidf': {'accuracy': 0.6109089470769717, 'precision': 0.6091201597536658, 'recall': 0.5234339744401167, 'f1': 0.5338585217192766}, 'bow': {'accuracy': 0.6107902855786725, 'precision': 0.6113663717625579, 'recall': 0.526070220747978, 'f1': 0.5376530178739494}, 'ngrams': {'accuracy': 0.4806186219444664, 'precision': 0.548328764891927, 'recall': 0.3704299127080421, 'f1': 0.35936891670726995}}, 'morphological': {'tfidf': {'accuracy': 0.6156949608417056, 'precision': 0.6081125940161588, 'recall': 0.5291388294247683, 'f1': 0.5397002183438828}, 'bow': {'accuracy': 0.6150225456846768, 'precision': 0.6105218082609154, 'recall': 0.5313543817612736, 'f1': 0.5429067829907537}, 'ngrams': {'accuracy': 0.4865121430266593, 'precision': 0.5576662473527347, 'recall': 0.37838260848721594, 'f1': 0.370603834956459}}, 'affix': {'tfidf': {'accuracy': 0.6098409935922791, 'precision': 0.6069785042548744, 'recall': 0.5225204942032947, 'f1': 0.5328243123645143}, 'bow': {'accuracy': 0.6106716240803733, 'precision': 0.6111102571447048, 'recall': 0.5261541450779902, 'f1': 0.5378685607996617}, 'ngrams': {'accuracy': 0.4798670991219049, 'precision': 0.5478045656811764, 'recall': 0.36984148924835364, 'f1': 0.3587590281753307}}}}\n"
     ]
    }
   ],
   "execution_count": 10
  },
  {
   "metadata": {},
   "cell_type": "code",
   "outputs": [],
   "execution_count": null,
   "source": "",
   "id": "d29494acf14e0c38"
  }
 ],
 "metadata": {
  "kernelspec": {
   "display_name": "Python 3 (ipykernel)",
   "language": "python",
   "name": "python3"
  },
  "language_info": {
   "codemirror_mode": {
    "name": "ipython",
    "version": 3
   },
   "file_extension": ".py",
   "mimetype": "text/x-python",
   "name": "python",
   "nbconvert_exporter": "python",
   "pygments_lexer": "ipython3",
   "version": "3.11.0"
  }
 },
 "nbformat": 4,
 "nbformat_minor": 5
}
